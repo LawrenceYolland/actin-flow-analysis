{
 "cells": [
  {
   "cell_type": "markdown",
   "metadata": {},
   "source": [
    "# Particle Image Velocimetry (PIV) Walkthrough  #"
   ]
  },
  {
   "cell_type": "code",
   "execution_count": null,
   "metadata": {},
   "outputs": [],
   "source": [
    "# Import packages image processing / feature matching / plotting\n",
    "from os.path import normpath, join\n",
    "import numpy as np\n",
    "import scipy.io as sio\n",
    "import matplotlib.pyplot as plt\n",
    "from skimage import io\n",
    "import cv2 as cv2\n",
    "from skimage.feature import match_template\n",
    "import seaborn as sns"
   ]
  },
  {
   "cell_type": "markdown",
   "metadata": {},
   "source": [
    "## Read in your initial image and set the parameters for the PIV ##"
   ]
  },
  {
   "cell_type": "code",
   "execution_count": null,
   "metadata": {},
   "outputs": [],
   "source": [
    "im_cb = io.imread('/.../imageStack.tif') # load cell image (this will be a .tif stack)\n",
    "index = 55 # choose a frame from the time-lapse movie\n",
    "\n",
    "img1 = im_cb[index]\n",
    "img2 = im_cb[index+1]"
   ]
  },
  {
   "cell_type": "code",
   "execution_count": null,
   "metadata": {},
   "outputs": [],
   "source": [
    "sourceSize = 10 # how big are the features you're tracking (in pixels)?\n",
    "searchSize = 20 # make a bigger box (usually around double the source size)\n",
    "gridDistance = 5 # define the grid (can overlap)\n",
    "correlationThreshold = 0.5 # for noisy images choose a lower value\n",
    "interval = 5.0 # define the time interval between images (in seconds)\n",
    "fps = 1/interval \n",
    "mue2pix_ratio = 0.1 # define the pixel/micron calibration"
   ]
  },
  {
   "cell_type": "code",
   "execution_count": null,
   "metadata": {},
   "outputs": [],
   "source": [
    "i=313 # choose example coordinates within the actin network\n",
    "j=193 \n",
    "\n",
    "sourceImage = img1[i-sourceSize:i+sourceSize, j-sourceSize:j+sourceSize] # define the source sub image\n",
    "searchImage = img2[i-searchSize:i+searchSize, j-searchSize:j+searchSize] # define the search sub image      "
   ]
  },
  {
   "cell_type": "markdown",
   "metadata": {},
   "source": [
    "### This section displays the source image that will be matched against the search image ###"
   ]
  },
  {
   "cell_type": "code",
   "execution_count": null,
   "metadata": {},
   "outputs": [],
   "source": [
    "fig, (ax1, ax2, ax3, ax4) = plt.subplots(ncols=4, figsize=(15, 15))\n",
    "\n",
    "ax1.imshow(img1, \"gray\", origin='upper')\n",
    "ax1.set_axis_off()\n",
    "ax1.set_title('Frame t')\n",
    "\n",
    "# highlight matched region\n",
    "h1, w1 = sourceImage.shape\n",
    "rect1 = plt.Rectangle((j-h1/2.0, i-w1/2.0), w1, h1, edgecolor = sns.xkcd_rgb[\"neon green\"], facecolor='none')\n",
    "ax1.add_patch(rect1)\n",
    "\n",
    "ax2.imshow(sourceImage, \"gray\", origin='upper')\n",
    "ax2.set_axis_off()\n",
    "ax2.set_title('Source Image')\n",
    "\n",
    "ax3.imshow(img2, \"gray\", origin='upper')\n",
    "ax3.set_axis_off()\n",
    "ax3.set_title('Frame t+1')\n",
    "\n",
    "# highlight matched region\n",
    "h, w = searchImage.shape\n",
    "rect = plt.Rectangle((j-h/2.0, i-w/2.0), w, h, edgecolor = sns.xkcd_rgb[\"neon green\"], facecolor='none')\n",
    "edgecolor = sns.xkcd_rgb[\"neon green\"]\n",
    "ax3.add_patch(rect)\n",
    "\n",
    "ax4.imshow(searchImage, \"gray\", origin='upper')\n",
    "ax4.set_axis_off()\n",
    "ax4.set_title('Search Image')\n",
    "# plt.savefig('/.../PIV Sequence{}.pdf'.format(index), bbox_inches='tight', pad_inches=0)\n",
    "\n",
    "plt.show()"
   ]
  },
  {
   "cell_type": "markdown",
   "metadata": {},
   "source": [
    "### Now we do the cross correlation between search and source images, and checks for a good match ###"
   ]
  },
  {
   "cell_type": "code",
   "execution_count": null,
   "metadata": {},
   "outputs": [],
   "source": [
    "c = match_template(searchImage, sourceImage) # run the image 2d cross correlation\n",
    "\n",
    "ypeak, xpeak = np.unravel_index(np.argmax(c), c.shape) # find the location of the maximum correlation coefficent\n",
    "corr_val = np.max(c) \n",
    "\n",
    "if corr_val > correlationThreshold :\n",
    "\n",
    "    fig, (ax1, ax2, ax3) = plt.subplots(ncols=3, figsize=(10, 10))\n",
    "\n",
    "    ax1.imshow(-1*sourceImage, \"gray\", origin='upper')\n",
    "    ax1.set_axis_off()\n",
    "    ax1.set_title('Source Image')\n",
    "\n",
    "    ax2.imshow(searchImage, \"gray\", origin='upper')\n",
    "    ax2.set_axis_off()\n",
    "    ax2.set_title('Search Image')\n",
    "    y,x = searchImage.shape\n",
    "    cx = x/2\n",
    "    cy = y/2\n",
    "\n",
    "    h, w = sourceImage.shape\n",
    "    rect = plt.Rectangle((cx-h/2, cy-w/2), w, h, edgecolor=sns.xkcd_rgb[\"neon green\"], facecolor='none')\n",
    "    ax2.add_patch(rect)\n",
    "\n",
    "    ax3.imshow(c,cmap='viridis')\n",
    "    ax3.set_axis_off()\n",
    "    ax3.set_title('Correlation Field')\n",
    "\n",
    "#   plt.savefig('/.../PIV Correlation{}.pdf'.format(index), bbox_inches='tight', pad_inches=0)\n",
    "    plt.show()"
   ]
  },
  {
   "cell_type": "markdown",
   "metadata": {},
   "source": [
    "## This bit will the calculate our example displacement vectors for the source image ##"
   ]
  },
  {
   "cell_type": "code",
   "execution_count": null,
   "metadata": {},
   "outputs": [],
   "source": [
    "fig, (ax1, ax2) = plt.subplots(ncols=2, figsize=(10, 10))\n",
    "\n",
    "ax1.imshow(searchImage)\n",
    "ax1.set_axis_off()\n",
    "ax1.set_title('Search Image')\n",
    "\n",
    "cy,cx = [searchImage.shape[0]/2,searchImage.shape[1]/2]\n",
    "h, w = sourceImage.shape\n",
    "\n",
    "rect = plt.Rectangle((cx-h/2, cy-w/2), w, h, edgecolor=sns.xkcd_rgb[\"white\"], facecolor='none')\n",
    "ax1.add_patch(rect)\n",
    "\n",
    "ax1.quiver(cx, cy, dx, dy, color = sns.xkcd_rgb[\"neon green\"], angles='xy') \n",
    "\n",
    "ax2.imshow(img1, origin='upper')\n",
    "ax2.quiver(x_p, y_p, dx, dy, color = sns.xkcd_rgb[\"neon green\"], angles='xy')\n",
    "ax2.axis('off')\n",
    "\n",
    "plt.show()"
   ]
  },
  {
   "cell_type": "markdown",
   "metadata": {},
   "source": [
    "## The next section will calculate velocity vectors for all source images within the cell ##"
   ]
  },
  {
   "cell_type": "code",
   "execution_count": null,
   "metadata": {},
   "outputs": [],
   "source": [
    "img1 = im_cb[index]\n",
    "img2 = im_cb[index+1]\n",
    "\n",
    "M, N = img1.shape[0], img1.shape[1] # image size\n",
    "\n",
    "kernel1 = cv2.getStructuringElement(cv2.MORPH_ELLIPSE, (4, 4))\n",
    "\n",
    "# Load current frame\n",
    "cellOutline1 = cv2.Canny(img1, 0, 1)\n",
    "\n",
    "# Dilate image edges\n",
    "im_dilation1 = cv2.dilate(cellOutline1, kernel1, iterations = 1)\n",
    "\n",
    "# Fill holes in the dilated image\n",
    "outline1 = np.zeros([im_dilation1.shape[0]+2, im_dilation1.shape[1]+2], dtype = np.uint8)\n",
    "cv2.floodFill(im_dilation1, outline1, (0, 0), 255)\n",
    "\n",
    "# Erode image to find cell outline\n",
    "cv2.erode(cellOutline1, outline1, kernel1, iterations = 1)\n",
    "cellOutline1 = 1 - outline1[1:-1,1:-1]\n",
    "\n",
    "kernel2 = cv2.getStructuringElement(cv2.MORPH_ELLIPSE, (searchSize, searchSize))\n",
    "img_erode1 = cv2.erode(cellOutline1,kernel2,iterations = 1)\n",
    "\n",
    "# Load current frame\n",
    "cellOutline2 = cv2.Canny(img2, 0, 1)\n",
    "\n",
    "# Dilate image edges\n",
    "im_dilation2 = cv2.dilate(cellOutline2, kernel1, iterations = 1)\n",
    "\n",
    "# Fill holes in the dilated image\n",
    "outline2 = np.zeros([im_dilation2.shape[0]+2, im_dilation2.shape[1]+2], dtype = np.uint8)\n",
    "cv2.floodFill(im_dilation2, outline2, (0, 0), 255)\n",
    "\n",
    "# Erode image to find cell outline\n",
    "cv2.erode(cellOutline2, outline2, kernel1, iterations = 1)\n",
    "cellOutline2 = 1 - outline2[1:-1,1:-1]\n",
    "\n",
    "img_erode2 = cv2.erode(cellOutline2,kernel2,iterations = 1)\n",
    "\n",
    "interSection = img_erode1 * img_erode2\n",
    "\n",
    "x_p = []\n",
    "y_p = []\n",
    "dx = []\n",
    "dy = []\n",
    "c_val = []\n",
    " \n",
    "for i in range(0, M, gridDistance):\n",
    "    for j in range(0, N, gridDistance):\n",
    "        if interSection[i,j] == 1:\n",
    "            sourceImage = img1[i-sourceSize:i+sourceSize, j-sourceSize:j+sourceSize]\n",
    "            searchImage = img2[i-searchSize:i+searchSize, j-searchSize:j+searchSize]        \n",
    "            \n",
    "            c = match_template(searchImage, sourceImage)\n",
    "                        \n",
    "            ypeak, xpeak = np.unravel_index(np.argmax(c), c.shape)\n",
    "            \n",
    "            corr_val = np.max(c) # if corr > 0.5\n",
    "            \n",
    "            if corr_val > correlationThreshold:\n",
    "               \n",
    "                x_p.append((j))\n",
    "                y_p.append((i))\n",
    "                dx.append((xpeak - (c.shape[0] + 1) / 2))\n",
    "                dy.append((ypeak - (c.shape[1] + 1) / 2))\n",
    "                c_val.append((corr_val))\n",
    "        \n",
    "vx = [i * mue2pix_ratio * fps * 60 for i in dx] \n",
    "vy = [i * (mue2pix_ratio * fps * 60) for i in dy]\n",
    "s0 = np.sqrt(np.array(vx)**2 + np.array(vy)**2) \n",
    "\n",
    "plt.imshow(img1, \"gray\", origin='upper')\n",
    "plt.quiver(x_p, y_p, vx, vy, s0,\n",
    "           cmap=plt.cm.jet, angles='xy') \n",
    "    \n",
    "plt.axis('off')\n",
    "plt.clim(0,12)\n",
    "    \n",
    "# plt.savefig('/.../flows00{}.png'.format(index), bbox_inches='tight', pad_inches=0, dpi=600)\n",
    "plt.show()\n",
    "\n",
    "plt.close()"
   ]
  }
 ],
 "metadata": {
  "kernelspec": {
   "display_name": "Python 2",
   "language": "python",
   "name": "python2"
  },
  "language_info": {
   "codemirror_mode": {
    "name": "ipython",
    "version": 2
   },
   "file_extension": ".py",
   "mimetype": "text/x-python",
   "name": "python",
   "nbconvert_exporter": "python",
   "pygments_lexer": "ipython2",
   "version": "2.7.14"
  }
 },
 "nbformat": 4,
 "nbformat_minor": 2
}
