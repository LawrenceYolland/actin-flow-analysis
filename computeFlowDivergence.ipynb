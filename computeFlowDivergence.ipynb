{
 "cells": [
  {
   "cell_type": "code",
   "execution_count": null,
   "metadata": {},
   "outputs": [],
   "source": [
    "# Import Packages\n",
    "from os.path import normpath, join\n",
    "import numpy as np\n",
    "import scipy.io as sio\n",
    "import matplotlib.pyplot as plt\n",
    "from skimage import io\n",
    "import cv2 as cv2"
   ]
  },
  {
   "cell_type": "code",
   "execution_count": null,
   "metadata": {},
   "outputs": [],
   "source": [
    "# Read in flow data from 'MATLAB PIV packages'\n",
    "path2file = \"/Users/.../\"\n",
    "flowFile = \"Movie1_External_Flow_Field.mat\"\n",
    "\n",
    "# define filepath\n",
    "fileNameFlow = normpath (join (path2file, flowFile))\n",
    "# # import file into a dictionary\n",
    "flowData = sio.loadmat (fileNameFlow)\n",
    "\n",
    "# read in the matlab flow structure field(idx).{vx|vy}\n",
    "flowStruct = flowData [\"vfilt\"]\n",
    "\n",
    "index = 10\n",
    "vx = flowStruct[0,index]['vx'] # get the fields (x components)\n",
    "vy = flowStruct[0,index]['vy'] # get the fields (y components)\n",
    "y, x = np.mgrid[0:vx[index].shape[0], 0:vx[index].shape[0]]\n"
   ]
  },
  {
   "cell_type": "code",
   "execution_count": null,
   "metadata": {},
   "outputs": [],
   "source": [
    "dx = 1 # if this is > 1, interpolate between points (this still needs to be implemented here)\n",
    "dy = 1\n",
    "\n",
    "dudx = np.zeros([vx.shape[0], vx.shape[0]])  # 2D array\n",
    "dvdy = np.zeros([vy.shape[0], vy.shape[0]])  # 2D array\n",
    "\n",
    "for ii in range(0,vx.shape[0]-dy, dy):\n",
    "    for jj in range(0,vx.shape[0]-dx, dx):\n",
    "        dudx = (vx[ii, jj + dx] - vx[ii, jj - dx]) / 2 * dx\n",
    "        dvdy = (vy[ii + dy, jj] - vy[ii - dy, jj]) / 2 * dy        \n",
    "        div[ii,jj] = dudx + dvdy\n",
    "\n",
    "div[div > 0] = 0\n",
    "div = np.absolute(div) \n",
    "\n",
    "plt.imshow(div, cmap='plasma')\n",
    "plt.clim(0, 0.5)\n",
    "plt.colorbar()\n",
    "plt.show()"
   ]
  }
 ],
 "metadata": {
  "kernelspec": {
   "display_name": "Python 2",
   "language": "python",
   "name": "python2"
  },
  "language_info": {
   "codemirror_mode": {
    "name": "ipython",
    "version": 2
   },
   "file_extension": ".py",
   "mimetype": "text/x-python",
   "name": "python",
   "nbconvert_exporter": "python",
   "pygments_lexer": "ipython2",
   "version": "2.7.14"
  }
 },
 "nbformat": 4,
 "nbformat_minor": 2
}
