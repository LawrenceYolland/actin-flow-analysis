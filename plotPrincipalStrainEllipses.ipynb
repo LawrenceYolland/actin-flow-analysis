{
 "cells": [
  {
   "cell_type": "code",
   "execution_count": null,
   "metadata": {},
   "outputs": [],
   "source": [
    "# Import Packages\n",
    "from os.path import normpath, join\n",
    "import numpy as np\n",
    "import scipy.io as sio\n",
    "import scipy as sc\n",
    "import numpy as np\n",
    "import math\n",
    "import matplotlib.pyplot as plt\n",
    "from skimage import io\n",
    "import cv2 as cv2\n",
    "import seaborn as sns\n",
    "import matplotlib"
   ]
  },
  {
   "cell_type": "code",
   "execution_count": null,
   "metadata": {},
   "outputs": [],
   "source": [
    "# Read in flow data from 'MATLAB PIV packages'\n",
    "path2file = \"/Users/.../\"\n",
    "flowFile = \"Movie1_External_Flow_Field.mat\"\n",
    "\n",
    "# define filepath\n",
    "fileNameFlow = normpath (join (path2file, flowFile))\n",
    "# # import file into a dictionary\n",
    "flowData = sio.loadmat (fileNameFlow)\n",
    "\n",
    "# read in the matlab flow structure field(idx).{vx|vy}\n",
    "flowStruct = flowData [\"vfilt\"]\n",
    "\n",
    "im_cb = io.imread('/Users/.../cb1_m.tif') # load cell image (this will be a .tif stack)\n",
    "\n",
    "index = 0 \n",
    "\n",
    "vx = flowStruct[0,index]['vx'] # get the fields (x components)\n",
    "vy = flowStruct[0,index]['vy'] # get the fields (y components)\n",
    "y, x = np.mgrid[0:vx[index].shape[0], 0:vx[index].shape[0]]\n",
    "\n",
    "vmag = np.sqrt(vx**2 + vy**2)\n",
    "interval = (slice(None, None, 10), slice(None, None, 10))\n",
    "\n",
    "dx = 10\n",
    "dy = 10\n",
    "\n",
    "img1 = im_cb[index]"
   ]
  },
  {
   "cell_type": "markdown",
   "metadata": {},
   "source": [
    "## Display the direction of the principal strain with ellipses ##"
   ]
  },
  {
   "cell_type": "code",
   "execution_count": null,
   "metadata": {},
   "outputs": [],
   "source": [
    "phi = np.linspace(0, 2*np.pi, 50)\n",
    "cosphi = np.cos(phi)\n",
    "sinphi = np.sin(phi)\n",
    "\n",
    "plt.imshow(img1, \"gray\", origin='upper')         \n",
    "ax1.set_axis_off()\n",
    "\n",
    "for ii in range(0,vx.shape[0]-dy, dy):\n",
    "    for jj in range(0,vx.shape[0]-dx, dx):\n",
    "        \n",
    "        dudx = (vx[ii, jj + dx] - vx[ii, jj - dx]) # / 2 * dx\n",
    "        dvdy = (vy[ii + dy, jj] - vy[ii - dy, jj]) # / 2 * dy\n",
    "        \n",
    "        L = np.array([[dudx/2*dx, dudx/2*dx], [dvdy/2*dx, dvdy/2*dx]])\n",
    "        strainRateTensor = (L + L.T)/2\n",
    "        d,V = sc.linalg.eigh(strainRateTensor)\n",
    "        \n",
    "        if np.abs(d[0]) > 0 and np.abs(d[1]) > 0 and np.abs(d[0]) != np.abs(d[1]):\n",
    "            pc1 = np.max(np.abs(d))\n",
    "                \n",
    "            ind1 = [i for (i, val) in enumerate(np.abs(d)) if val == pc1]\n",
    "            pc1a = d[ind1[0]]*.5\n",
    "\n",
    "            ind2 = [i for (i, val) in enumerate(np.abs(d)) if val != pc1]           \n",
    "            pc2 = d[ind2[0]]*.5\n",
    "\n",
    "            pa1 = math.atan2(V[1,0],V[0,0])            \n",
    "#             pa2 = math.atan2(V[1,1],V[0,1])\n",
    "            \n",
    "            xy = np.array([cosphi*pc1a, sinphi*pc2])\n",
    "            \n",
    "            theta = pa1\n",
    "            c, s = np.cos(pa1), np.sin(pa1)            \n",
    "            R = np.array(((c,-s), (s, c)))\n",
    "            \n",
    "            xx,yy = R.dot(xy)  \n",
    "\n",
    "#           pc1R = [i * R for i in np.cos(t)] \n",
    "#           pc2R = [i * R for i in np.sin(t)] \n",
    "\n",
    "            if pc1a < 0:\n",
    "                plt.plot(x[ii,jj]+xx, y[ii,jj]+yy, color = sns.xkcd_rgb[\"neon blue\"],linewidth=0.1)\n",
    "            \n",
    "#             or use patches to make the ellipses\n",
    "#                 ell1 = matplotlib.patches.Ellipse([x[ii,jj], y[ii,jj]],\n",
    "#                                                  pc1a, pc2, angle=np.rad2deg(pa1),\n",
    "#                                                  color = sns.xkcd_rgb[\"neon blue\"]) or use patches\n",
    "            else:\n",
    "                plt.plot(x[ii,jj]+xx, y[ii,jj]+yy, color = sns.xkcd_rgb[\"neon pink\"],linewidth=0.1)\n",
    "# plt.savefig('/Users/../../flows001{}.pdf'.format(index), bbox_inches='tight', pad_inches=0, dpi=600)\n",
    "\n",
    "plt.show()\n",
    "                     "
   ]
  }
 ],
 "metadata": {
  "kernelspec": {
   "display_name": "Python 2",
   "language": "python",
   "name": "python2"
  },
  "language_info": {
   "codemirror_mode": {
    "name": "ipython",
    "version": 2
   },
   "file_extension": ".py",
   "mimetype": "text/x-python",
   "name": "python",
   "nbconvert_exporter": "python",
   "pygments_lexer": "ipython2",
   "version": "2.7.14"
  }
 },
 "nbformat": 4,
 "nbformat_minor": 2
}
